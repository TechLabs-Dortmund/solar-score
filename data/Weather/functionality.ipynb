{
 "cells": [
  {
   "cell_type": "code",
   "execution_count": 1,
   "metadata": {},
   "outputs": [],
   "source": [
    "from weather_forecast import mosmix_forecast\n",
    "import matplotlib.pyplot as plt "
   ]
  },
  {
   "cell_type": "code",
   "execution_count": 2,
   "metadata": {},
   "outputs": [
    {
     "data": {
      "text/plain": [
       "'Auf der Reihe 2, 45884 Gelsenkirchen, Germany'"
      ]
     },
     "execution_count": 2,
     "metadata": {},
     "output_type": "execute_result"
    }
   ],
   "source": [
    "address = \"Auf der Reihe 2, 45884 Gelsenkirchen, Germany\"\n",
    "address"
   ]
  },
  {
   "cell_type": "code",
   "execution_count": 3,
   "metadata": {},
   "outputs": [
    {
     "name": "stderr",
     "output_type": "stream",
     "text": [
      "Dircache located at C:\\Users\\InkaStinn\\AppData\\Local\\wetterdienst\\wetterdienst\\Cache\n"
     ]
    },
    {
     "data": {
      "text/html": [
       "<div>\n",
       "<style scoped>\n",
       "    .dataframe tbody tr th:only-of-type {\n",
       "        vertical-align: middle;\n",
       "    }\n",
       "\n",
       "    .dataframe tbody tr th {\n",
       "        vertical-align: top;\n",
       "    }\n",
       "\n",
       "    .dataframe thead th {\n",
       "        text-align: right;\n",
       "    }\n",
       "</style>\n",
       "<table border=\"1\" class=\"dataframe\">\n",
       "  <thead>\n",
       "    <tr style=\"text-align: right;\">\n",
       "      <th></th>\n",
       "      <th>station_name</th>\n",
       "      <th>station_id</th>\n",
       "      <th>dataset</th>\n",
       "      <th>parameter</th>\n",
       "      <th>date</th>\n",
       "      <th>value</th>\n",
       "      <th>quality</th>\n",
       "    </tr>\n",
       "  </thead>\n",
       "  <tbody>\n",
       "    <tr>\n",
       "      <th>0</th>\n",
       "      <td>GELSENKIRCHEN</td>\n",
       "      <td>K1115</td>\n",
       "      <td>small</td>\n",
       "      <td>temperature_air_mean_200</td>\n",
       "      <td>2022-03-20 17:00:00+00:00</td>\n",
       "      <td>283.25</td>\n",
       "      <td>NaN</td>\n",
       "    </tr>\n",
       "    <tr>\n",
       "      <th>1</th>\n",
       "      <td>GELSENKIRCHEN</td>\n",
       "      <td>K1115</td>\n",
       "      <td>small</td>\n",
       "      <td>temperature_air_mean_200</td>\n",
       "      <td>2022-03-20 18:00:00+00:00</td>\n",
       "      <td>282.75</td>\n",
       "      <td>NaN</td>\n",
       "    </tr>\n",
       "    <tr>\n",
       "      <th>2</th>\n",
       "      <td>GELSENKIRCHEN</td>\n",
       "      <td>K1115</td>\n",
       "      <td>small</td>\n",
       "      <td>temperature_air_mean_200</td>\n",
       "      <td>2022-03-20 19:00:00+00:00</td>\n",
       "      <td>282.15</td>\n",
       "      <td>NaN</td>\n",
       "    </tr>\n",
       "    <tr>\n",
       "      <th>3</th>\n",
       "      <td>GELSENKIRCHEN</td>\n",
       "      <td>K1115</td>\n",
       "      <td>small</td>\n",
       "      <td>temperature_air_mean_200</td>\n",
       "      <td>2022-03-20 20:00:00+00:00</td>\n",
       "      <td>281.55</td>\n",
       "      <td>NaN</td>\n",
       "    </tr>\n",
       "    <tr>\n",
       "      <th>4</th>\n",
       "      <td>GELSENKIRCHEN</td>\n",
       "      <td>K1115</td>\n",
       "      <td>small</td>\n",
       "      <td>temperature_air_mean_200</td>\n",
       "      <td>2022-03-20 21:00:00+00:00</td>\n",
       "      <td>281.05</td>\n",
       "      <td>NaN</td>\n",
       "    </tr>\n",
       "  </tbody>\n",
       "</table>\n",
       "</div>"
      ],
      "text/plain": [
       "    station_name station_id dataset                 parameter  \\\n",
       "0  GELSENKIRCHEN      K1115   small  temperature_air_mean_200   \n",
       "1  GELSENKIRCHEN      K1115   small  temperature_air_mean_200   \n",
       "2  GELSENKIRCHEN      K1115   small  temperature_air_mean_200   \n",
       "3  GELSENKIRCHEN      K1115   small  temperature_air_mean_200   \n",
       "4  GELSENKIRCHEN      K1115   small  temperature_air_mean_200   \n",
       "\n",
       "                       date   value  quality  \n",
       "0 2022-03-20 17:00:00+00:00  283.25      NaN  \n",
       "1 2022-03-20 18:00:00+00:00  282.75      NaN  \n",
       "2 2022-03-20 19:00:00+00:00  282.15      NaN  \n",
       "3 2022-03-20 20:00:00+00:00  281.55      NaN  \n",
       "4 2022-03-20 21:00:00+00:00  281.05      NaN  "
      ]
     },
     "execution_count": 3,
     "metadata": {},
     "output_type": "execute_result"
    }
   ],
   "source": [
    "df = mosmix_forecast(address, [\"Rad1h\", \"TTT\", \"FF\"], humanize=True)\n",
    "df.head()"
   ]
  },
  {
   "cell_type": "code",
   "execution_count": 4,
   "metadata": {},
   "outputs": [
    {
     "data": {
      "text/plain": [
       "<AxesSubplot:>"
      ]
     },
     "execution_count": 4,
     "metadata": {},
     "output_type": "execute_result"
    },
    {
     "data": {
      "image/png": "[encoded data removed]",
      "text/plain": [
       "<Figure size 432x288 with 1 Axes>"
      ]
     },
     "metadata": {
      "needs_background": "light"
     },
     "output_type": "display_data"
    }
   ],
   "source": [
    "df.plot()"
   ]
  }
 ],
 "metadata": {
  "interpreter": {
   "hash": "8278feb432826f97e5262c06854796153299d683a9bb2de5523c130b283f43d6"
  },
  "kernelspec": {
   "display_name": "Python 3.8.12 ('solarscore')",
   "language": "python",
   "name": "python3"
  },
  "language_info": {
   "codemirror_mode": {
    "name": "ipython",
    "version": 3
   },
   "file_extension": ".py",
   "mimetype": "text/x-python",
   "name": "python",
   "nbconvert_exporter": "python",
   "pygments_lexer": "ipython3",
   "version": "3.8.12"
  },
  "orig_nbformat": 4
 },
 "nbformat": 4,
 "nbformat_minor": 2
}
