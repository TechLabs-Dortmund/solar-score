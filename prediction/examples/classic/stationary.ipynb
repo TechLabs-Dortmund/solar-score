{
 "cells": [
  {
   "cell_type": "markdown",
   "metadata": {},
   "source": [
    "# Stationarity\n",
    "Source: https://neptune.ai/blog/select-model-for-time-series-prediction-task"
   ]
  },
  {
   "cell_type": "markdown",
   "metadata": {},
   "source": [
    "### Packages"
   ]
  },
  {
   "cell_type": "code",
   "execution_count": 1,
   "metadata": {},
   "outputs": [],
   "source": [
    "import datasets\n",
    "from statsmodels.tsa.stattools import adfuller"
   ]
  },
  {
   "cell_type": "markdown",
   "metadata": {},
   "source": [
    "### Dataset"
   ]
  },
  {
   "cell_type": "code",
   "execution_count": 2,
   "metadata": {},
   "outputs": [],
   "source": [
    "co2_data = datasets.get_co2()"
   ]
  },
  {
   "cell_type": "markdown",
   "metadata": {},
   "source": [
    "### Dickey-Fuller test\n",
    "The Dickey-Fuller test is a statistical hypothesis test that allows you to detect non-stationarity. You can use the following Python code to apply a Dickey-Fuller test to the CO2 data:"
   ]
  },
  {
   "cell_type": "code",
   "execution_count": 3,
   "metadata": {},
   "outputs": [
    {
     "name": "stdout",
     "output_type": "stream",
     "text": [
      "ADF test statistic: 0.0337845974582652\n",
      "ADF p-values: 0.9612384528286108\n",
      "ADF number of lags used: 27\n",
      "ADF number of observations: 2256\n",
      "ADF critical values: {'1%': -3.4332519309441296, '5%': -2.8628219967376647, '10%': -2.567452466810334}\n",
      "ADF best information criterion: 2578.3909092525305\n"
     ]
    }
   ],
   "source": [
    "adf, pval, usedlag, nobs, crit_vals, icbest =  adfuller(co2_data.co2.values)\n",
    "print('ADF test statistic:', adf)\n",
    "print('ADF p-values:', pval)\n",
    "print('ADF number of lags used:', usedlag)\n",
    "print('ADF number of observations:', nobs)\n",
    "print('ADF critical values:', crit_vals)\n",
    "print('ADF best information criterion:', icbest)"
   ]
  },
  {
   "cell_type": "markdown",
   "metadata": {},
   "source": [
    "The null hypothesis of the ADF test is that a unit root is present in the time series. The alternative hypothesis is that the data is stationary.\n",
    "\n",
    "The second value is the p-value. If this p-value is smaller than 0.05 you can reject the null hypothesis (reject non-stationarity) and accept the alternative hypothesis (stationarity). In this case, we cannot reject the null hypothesis and will have to assume that the data is non-stationary. As you have seen the data, you know that there is a trend, so this also confirms the result we obtained."
   ]
  }
 ],
 "metadata": {
  "interpreter": {
   "hash": "7d2390abb39192bd9dd398deb32384cfd322c68ef0e41a3571b69ebf17599154"
  },
  "kernelspec": {
   "display_name": "Python 3.7.12 64-bit ('solar': conda)",
   "language": "python",
   "name": "python3"
  },
  "language_info": {
   "codemirror_mode": {
    "name": "ipython",
    "version": 3
   },
   "file_extension": ".py",
   "mimetype": "text/x-python",
   "name": "python",
   "nbconvert_exporter": "python",
   "pygments_lexer": "ipython3",
   "version": "3.7.12"
  },
  "orig_nbformat": 4
 },
 "nbformat": 4,
 "nbformat_minor": 2
}
