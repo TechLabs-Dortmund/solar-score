{
 "cells": [
  {
   "cell_type": "code",
   "execution_count": null,
   "metadata": {},
   "outputs": [],
   "source": [
    "import statsmodels.datasets.co2 as co2\n",
    "co2_data = co2.load(as_pandas=True).data\n",
    "print(co2_data)"
   ]
  },
  {
   "cell_type": "code",
   "execution_count": null,
   "metadata": {},
   "outputs": [],
   "source": [
    "co2_data = co2_data.fillna(co2_data.interpolate())\n",
    "co2_data.plot()"
   ]
  }
 ],
 "metadata": {
  "language_info": {
   "name": "python"
  },
  "orig_nbformat": 4
 },
 "nbformat": 4,
 "nbformat_minor": 2
}
