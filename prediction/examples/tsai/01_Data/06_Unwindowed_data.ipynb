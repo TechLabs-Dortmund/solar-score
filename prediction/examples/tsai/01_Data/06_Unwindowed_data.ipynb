{
 "cells": [
  {
   "cell_type": "code",
   "execution_count": null,
   "metadata": {},
   "outputs": [],
   "source": [
    "# Run with 'solar': conda\n",
    "from tsai.all import *"
   ]
  }
 ],
 "metadata": {
  "language_info": {
   "name": "python"
  },
  "orig_nbformat": 4
 },
 "nbformat": 4,
 "nbformat_minor": 2
}
