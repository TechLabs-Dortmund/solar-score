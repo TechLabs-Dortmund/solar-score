{
 "cells": [
  {
   "cell_type": "code",
   "execution_count": 139,
   "metadata": {},
   "outputs": [],
   "source": [
    "# Run with 'solar': conda\n",
    "from tsai.all import *"
   ]
  },
  {
   "cell_type": "markdown",
   "metadata": {},
   "source": [
    "Create `numpy` array with four columns."
   ]
  },
  {
   "cell_type": "code",
   "execution_count": 140,
   "metadata": {},
   "outputs": [],
   "source": [
    "data1 = np.concatenate([np.ones((20,1), dtype=int), np.arange(20).reshape(-1,1).repeat(3,1) * np.array([1,10,100])], 1)\n",
    "data2 = np.concatenate([np.ones((15,1), dtype=int)*2, np.arange(15).reshape(-1,1).repeat(3,1) * np.array([1,10,100]) + .5], 1)\n",
    "data = np.concatenate([data1, data2])"
   ]
  },
  {
   "cell_type": "markdown",
   "metadata": {},
   "source": [
    "Create `dataframe` with four columns."
   ]
  },
  {
   "cell_type": "code",
   "execution_count": 141,
   "metadata": {},
   "outputs": [
    {
     "data": {
      "image/png": "[encoded data removed]",
      "text/plain": [
       "<Figure size 432x288 with 1 Axes>"
      ]
     },
     "metadata": {
      "needs_background": "light"
     },
     "output_type": "display_data"
    }
   ],
   "source": [
    "df = pd.DataFrame(data, columns=['unique_id', 'var1', 'var2', 'target'])\n",
    "df.plot();"
   ]
  },
  {
   "cell_type": "code",
   "execution_count": 142,
   "metadata": {},
   "outputs": [],
   "source": [
    "df = df.loc[np.random.choice(len(df), len(df), False)].reset_index()\n",
    "df.rename(columns={'index': 'time'}, inplace=True)"
   ]
  },
  {
   "cell_type": "markdown",
   "metadata": {},
   "source": [
    "`SlidingWindow` parameters."
   ]
  },
  {
   "cell_type": "code",
   "execution_count": 143,
   "metadata": {},
   "outputs": [],
   "source": [
    "window_len = 3\n",
    "unique_id_cols = ['unique_id']\n",
    "stride = 1\n",
    "start = 0\n",
    "pad_remainder = False\n",
    "padding_value = np.nan\n",
    "add_padding_feature = True\n",
    "get_x = ['var1', 'var2', 'target']\n",
    "get_y = 'target'\n",
    "y_func = None\n",
    "horizon = 3                             # ?\n",
    "seq_first = True\n",
    "sort_by = ['time']\n",
    "ascending = True\n",
    "check_leakage = True\n",
    "return_key = False\n",
    "verbose = True"
   ]
  },
  {
   "cell_type": "markdown",
   "metadata": {},
   "source": [
    "Apply `SlidingWindowPanel` on data."
   ]
  },
  {
   "cell_type": "code",
   "execution_count": 144,
   "metadata": {},
   "outputs": [
    {
     "data": {
      "text/html": [],
      "text/plain": [
       "<IPython.core.display.HTML object>"
      ]
     },
     "metadata": {},
     "output_type": "display_data"
    }
   ],
   "source": [
    "X, y = SlidingWindowPanel(window_len=window_len,\n",
    "                          unique_id_cols=unique_id_cols,\n",
    "                          stride=stride,\n",
    "                          start=start,\n",
    "                          pad_remainder=pad_remainder,\n",
    "                          padding_value=padding_value,\n",
    "                          add_padding_feature=add_padding_feature,\n",
    "                          get_x=get_x,\n",
    "                          get_y=get_y,\n",
    "                          y_func=y_func,\n",
    "                          horizon=horizon,\n",
    "                          seq_first=seq_first,\n",
    "                          sort_by=sort_by,\n",
    "                          ascending=ascending,\n",
    "                          check_leakage=check_leakage,\n",
    "                          return_key=return_key,\n",
    "                          verbose=verbose)(df)"
   ]
  },
  {
   "cell_type": "markdown",
   "metadata": {},
   "source": [
    "Faster way to apply `SlidingWindow`."
   ]
  },
  {
   "cell_type": "code",
   "execution_count": 145,
   "metadata": {},
   "outputs": [],
   "source": [
    "output = [df.groupby(['unique_id']).apply(lambda x: SlidingWindow(window_len=window_len,\n",
    "                                                                  stride=stride,\n",
    "                                                                  start=start,\n",
    "                                                                  pad_remainder=pad_remainder,\n",
    "                                                                  padding_value=padding_value,\n",
    "                                                                  add_padding_feature=add_padding_feature,\n",
    "                                                                  get_x=get_x,\n",
    "                                                                  get_y=get_y,\n",
    "                                                                  y_func=y_func,\n",
    "                                                                  horizon=horizon,\n",
    "                                                                  seq_first=seq_first,\n",
    "                                                                  sort_by=sort_by,\n",
    "                                                                  ascending=ascending,\n",
    "                                                                  check_leakage=check_leakage,\n",
    "                                                                  copy=True, # it's important to set copy to True when used in this way!!!\n",
    "                                                                  )(x))][0].values\n",
    "\n",
    "X2 = np.concatenate([oi[0] for oi in output])\n",
    "y2 = np.concatenate([oi[1] for oi in output])"
   ]
  },
  {
   "cell_type": "markdown",
   "metadata": {},
   "source": [
    "(Samples, Features, Timesteps)"
   ]
  },
  {
   "cell_type": "code",
   "execution_count": 146,
   "metadata": {},
   "outputs": [
    {
     "name": "stdout",
     "output_type": "stream",
     "text": [
      "(25, 3, 3) (25, 3)\n",
      "(25, 3, 3) (25, 3)\n"
     ]
    }
   ],
   "source": [
    "print(X.shape, y.shape)\n",
    "print(X2.shape, y2.shape)"
   ]
  },
  {
   "cell_type": "code",
   "execution_count": 147,
   "metadata": {},
   "outputs": [
    {
     "data": {
      "text/plain": [
       "array([0., 1., 2.])"
      ]
     },
     "execution_count": 147,
     "metadata": {},
     "output_type": "execute_result"
    }
   ],
   "source": [
    "X[0,0,:]"
   ]
  }
 ],
 "metadata": {
  "interpreter": {
   "hash": "7d2390abb39192bd9dd398deb32384cfd322c68ef0e41a3571b69ebf17599154"
  },
  "kernelspec": {
   "display_name": "Python 3.7.12 ('solar')",
   "language": "python",
   "name": "python3"
  },
  "language_info": {
   "codemirror_mode": {
    "name": "ipython",
    "version": 3
   },
   "file_extension": ".py",
   "mimetype": "text/x-python",
   "name": "python",
   "nbconvert_exporter": "python",
   "pygments_lexer": "ipython3",
   "version": "3.7.12"
  },
  "orig_nbformat": 4
 },
 "nbformat": 4,
 "nbformat_minor": 2
}
