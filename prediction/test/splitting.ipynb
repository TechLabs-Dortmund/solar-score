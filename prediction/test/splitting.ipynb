{
 "cells": [
  {
   "cell_type": "code",
   "execution_count": null,
   "metadata": {},
   "outputs": [],
   "source": [
    "# Run with 'solar': conda\n",
    "from tsai.all import *"
   ]
  },
  {
   "cell_type": "code",
   "execution_count": null,
   "metadata": {},
   "outputs": [],
   "source": [
    "ts = get_forecasting_time_series(\"Sunspots\").values\n",
    "X, y = SlidingWindow(60, horizon=1)(ts)\n",
    "splits = TimeSplitter(235)(y) \n",
    "batch_tfms = TSStandardize()\n",
    "cbs = [ShowGraph(), SaveModelCallback(monitor='valid_loss', comp=np.less, min_delta=0.01), EarlyStoppingCallback(monitor='valid_loss', comp=np.greater, min_delta=0.01)]\n",
    "fcst = TSForecaster(X, y, splits=splits, batch_tfms=batch_tfms, bs=512, arch=TST, metrics=mae, cbs=cbs)\n",
    "fcst.fit_one_cycle(50, 1e-3)"
   ]
  },
  {
   "cell_type": "code",
   "execution_count": null,
   "metadata": {},
   "outputs": [],
   "source": []
  }
 ],
 "metadata": {
  "interpreter": {
   "hash": "7d2390abb39192bd9dd398deb32384cfd322c68ef0e41a3571b69ebf17599154"
  },
  "kernelspec": {
   "display_name": "Python 3.7.12 ('solar')",
   "language": "python",
   "name": "python3"
  },
  "language_info": {
   "codemirror_mode": {
    "name": "ipython",
    "version": 3
   },
   "file_extension": ".py",
   "mimetype": "text/x-python",
   "name": "python",
   "nbconvert_exporter": "python",
   "pygments_lexer": "ipython3",
   "version": "3.8.12"
  },
  "orig_nbformat": 4
 },
 "nbformat": 4,
 "nbformat_minor": 2
}
