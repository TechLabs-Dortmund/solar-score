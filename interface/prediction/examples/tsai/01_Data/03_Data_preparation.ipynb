{
 "cells": [
  {
   "cell_type": "code",
   "execution_count": 10,
   "metadata": {},
   "outputs": [],
   "source": [
    "from tsai.all import *\n",
    "import pandas as pd"
   ]
  },
  {
   "cell_type": "markdown",
   "metadata": {},
   "source": [
    "# Data preparation"
   ]
  },
  {
   "cell_type": "code",
   "execution_count": 11,
   "metadata": {},
   "outputs": [
    {
     "data": {
      "text/html": [
       "<div>\n",
       "<style scoped>\n",
       "    .dataframe tbody tr th:only-of-type {\n",
       "        vertical-align: middle;\n",
       "    }\n",
       "\n",
       "    .dataframe tbody tr th {\n",
       "        vertical-align: top;\n",
       "    }\n",
       "\n",
       "    .dataframe thead th {\n",
       "        text-align: right;\n",
       "    }\n",
       "</style>\n",
       "<table border=\"1\" class=\"dataframe\">\n",
       "  <thead>\n",
       "    <tr style=\"text-align: right;\">\n",
       "      <th></th>\n",
       "      <th>sample_id</th>\n",
       "      <th>var1</th>\n",
       "      <th>var2</th>\n",
       "    </tr>\n",
       "  </thead>\n",
       "  <tbody>\n",
       "    <tr>\n",
       "      <th>0</th>\n",
       "      <td>1</td>\n",
       "      <td>10</td>\n",
       "      <td>100</td>\n",
       "    </tr>\n",
       "    <tr>\n",
       "      <th>1</th>\n",
       "      <td>1</td>\n",
       "      <td>11</td>\n",
       "      <td>101</td>\n",
       "    </tr>\n",
       "    <tr>\n",
       "      <th>2</th>\n",
       "      <td>1</td>\n",
       "      <td>12</td>\n",
       "      <td>102</td>\n",
       "    </tr>\n",
       "    <tr>\n",
       "      <th>3</th>\n",
       "      <td>2</td>\n",
       "      <td>23</td>\n",
       "      <td>203</td>\n",
       "    </tr>\n",
       "    <tr>\n",
       "      <th>4</th>\n",
       "      <td>2</td>\n",
       "      <td>24</td>\n",
       "      <td>204</td>\n",
       "    </tr>\n",
       "    <tr>\n",
       "      <th>5</th>\n",
       "      <td>2</td>\n",
       "      <td>25</td>\n",
       "      <td>205</td>\n",
       "    </tr>\n",
       "    <tr>\n",
       "      <th>6</th>\n",
       "      <td>3</td>\n",
       "      <td>36</td>\n",
       "      <td>306</td>\n",
       "    </tr>\n",
       "    <tr>\n",
       "      <th>7</th>\n",
       "      <td>3</td>\n",
       "      <td>37</td>\n",
       "      <td>307</td>\n",
       "    </tr>\n",
       "    <tr>\n",
       "      <th>8</th>\n",
       "      <td>3</td>\n",
       "      <td>38</td>\n",
       "      <td>308</td>\n",
       "    </tr>\n",
       "  </tbody>\n",
       "</table>\n",
       "</div>"
      ],
      "text/plain": [
       "   sample_id  var1  var2\n",
       "0          1    10   100\n",
       "1          1    11   101\n",
       "2          1    12   102\n",
       "3          2    23   203\n",
       "4          2    24   204\n",
       "5          2    25   205\n",
       "6          3    36   306\n",
       "7          3    37   307\n",
       "8          3    38   308"
      ]
     },
     "execution_count": 11,
     "metadata": {},
     "output_type": "execute_result"
    }
   ],
   "source": [
    "df = pd.DataFrame()\n",
    "df['sample_id'] = np.array([1,1,1,2,2,2,3,3,3])\n",
    "df['var1'] = df['sample_id'] * 10 + df.index.values\n",
    "df['var2'] = df['sample_id'] * 100 + df.index.values\n",
    "df"
   ]
  },
  {
   "cell_type": "markdown",
   "metadata": {},
   "source": [
    "## Extracting"
   ]
  },
  {
   "cell_type": "markdown",
   "metadata": {},
   "source": [
    "### df2Xy\n",
    "Source: https://github.com/timeseriesAI/tsai/blob/main/tsai/data/preparation.py#L15"
   ]
  },
  {
   "cell_type": "code",
   "execution_count": 21,
   "metadata": {},
   "outputs": [
    {
     "data": {
      "text/plain": [
       "(array([[[ 10, 100,  11, 101,  12, 102]],\n",
       " \n",
       "        [[ 23, 203,  24, 204,  25, 205]],\n",
       " \n",
       "        [[ 36, 306,  37, 307,  38, 308]]], dtype=int64),\n",
       " None)"
      ]
     },
     "execution_count": 21,
     "metadata": {},
     "output_type": "execute_result"
    }
   ],
   "source": [
    "X,y = df2Xy(\n",
    "    df, \n",
    "    sample_col='sample_id', \n",
    "    feat_col=None, \n",
    "    data_cols=['var1', 'var2'], \n",
    "    target_col=None, \n",
    "    steps_in_rows=False, \n",
    "    to3d=True, \n",
    "    splits=None, \n",
    "    sort_by=None, \n",
    "    ascending=True, \n",
    "    y_func=None, \n",
    "    return_names=False\n",
    "    )\n",
    "X, y"
   ]
  },
  {
   "cell_type": "code",
   "execution_count": 27,
   "metadata": {},
   "outputs": [
    {
     "ename": "ValueError",
     "evalue": "too many values to unpack (expected 2)",
     "output_type": "error",
     "traceback": [
      "\u001b[1;31m---------------------------------------------------------------------------\u001b[0m",
      "\u001b[1;31mValueError\u001b[0m                                Traceback (most recent call last)",
      "\u001b[1;32m~\\AppData\\Local\\Temp\\ipykernel_6228\\2729909516.py\u001b[0m in \u001b[0;36m<module>\u001b[1;34m\u001b[0m\n\u001b[0;32m      2\u001b[0m     \u001b[0mX\u001b[0m\u001b[1;33m=\u001b[0m\u001b[0mX\u001b[0m\u001b[1;33m,\u001b[0m\u001b[1;33m\u001b[0m\u001b[1;33m\u001b[0m\u001b[0m\n\u001b[0;32m      3\u001b[0m     \u001b[0my\u001b[0m\u001b[1;33m=\u001b[0m\u001b[0my\u001b[0m\u001b[1;33m,\u001b[0m\u001b[1;33m\u001b[0m\u001b[1;33m\u001b[0m\u001b[0m\n\u001b[1;32m----> 4\u001b[1;33m     \u001b[0msplits\u001b[0m\u001b[1;33m=\u001b[0m\u001b[1;32mNone\u001b[0m\u001b[1;33m,\u001b[0m\u001b[1;33m\u001b[0m\u001b[1;33m\u001b[0m\u001b[0m\n\u001b[0m\u001b[0;32m      5\u001b[0m     )\n\u001b[0;32m      6\u001b[0m \u001b[0mX\u001b[0m\u001b[1;33m,\u001b[0m \u001b[0my\u001b[0m\u001b[1;33m\u001b[0m\u001b[1;33m\u001b[0m\u001b[0m\n",
      "\u001b[1;31mValueError\u001b[0m: too many values to unpack (expected 2)"
     ]
    }
   ],
   "source": [
    "X,y = split_Xy(\n",
    "    X=X, \n",
    "    y=y, \n",
    "    splits=None,\n",
    "    )\n",
    "X, y"
   ]
  },
  {
   "cell_type": "code",
   "execution_count": null,
   "metadata": {},
   "outputs": [],
   "source": [
    "df2np3d(\n",
    "    df, \n",
    "    groupby, \n",
    "    data_cols=None\n",
    "    )"
   ]
  },
  {
   "cell_type": "markdown",
   "metadata": {},
   "source": [
    "## Manipulating"
   ]
  },
  {
   "cell_type": "code",
   "execution_count": null,
   "metadata": {},
   "outputs": [],
   "source": [
    "add_missing_value_cols(\n",
    "    df, \n",
    "    cols=None, \n",
    "    dtype=float, \n",
    "    fill_value=None\n",
    "    )"
   ]
  },
  {
   "cell_type": "code",
   "execution_count": null,
   "metadata": {},
   "outputs": [],
   "source": [
    "add_missing_timestamps(\n",
    "    df, \n",
    "    datetime_col, \n",
    "    groupby=None, \n",
    "    fill_value=nan, \n",
    "    range_by_group=True, \n",
    "    freq=None\n",
    "    )"
   ]
  },
  {
   "cell_type": "code",
   "execution_count": null,
   "metadata": {},
   "outputs": [],
   "source": [
    "time_encoding(\n",
    "    series, \n",
    "    freq, \n",
    "    max_val=None\n",
    "    )"
   ]
  },
  {
   "cell_type": "code",
   "execution_count": null,
   "metadata": {},
   "outputs": [],
   "source": [
    "window_len = 5\n",
    "unique_id_cols = 2"
   ]
  },
  {
   "cell_type": "code",
   "execution_count": null,
   "metadata": {},
   "outputs": [],
   "source": [
    "SlidingWindow(\n",
    "    window_len, \n",
    "    stride=1, \n",
    "    start=0, \n",
    "    pad_remainder=False, \n",
    "    padding='post', \n",
    "    padding_value=nan, \n",
    "    add_padding_feature=True, \n",
    "    get_x=None, \n",
    "    get_y=None, \n",
    "    y_func=None, \n",
    "    output_processor=None, \n",
    "    copy=False, \n",
    "    horizon=1, \n",
    "    seq_first=True, \n",
    "    sort_by=None, \n",
    "    ascending=True, \n",
    "    check_leakage=True\n",
    "    )"
   ]
  },
  {
   "cell_type": "code",
   "execution_count": null,
   "metadata": {},
   "outputs": [],
   "source": [
    "SlidingWindowPanel(window_len, \n",
    "unique_id_cols, \n",
    "stride=1, \n",
    "start=0, \n",
    "pad_remainder=False, \n",
    "padding='post', \n",
    "padding_value=nan, \n",
    "add_padding_feature=True, \n",
    "get_x=None, \n",
    "get_y=None, \n",
    "y_func=None, \n",
    "output_processor=None, \n",
    "copy=False, \n",
    "horizon=1, \n",
    "seq_first=True, \n",
    "sort_by=None, \n",
    "ascending=True, \n",
    "check_leakage=True, \n",
    "return_key=False, \n",
    "verbose=True\n",
    ")"
   ]
  }
 ],
 "metadata": {
  "interpreter": {
   "hash": "7d2390abb39192bd9dd398deb32384cfd322c68ef0e41a3571b69ebf17599154"
  },
  "kernelspec": {
   "display_name": "Python 3.7.12 64-bit ('solar': conda)",
   "language": "python",
   "name": "python3"
  },
  "language_info": {
   "codemirror_mode": {
    "name": "ipython",
    "version": 3
   },
   "file_extension": ".py",
   "mimetype": "text/x-python",
   "name": "python",
   "nbconvert_exporter": "python",
   "pygments_lexer": "ipython3",
   "version": "3.7.12"
  },
  "orig_nbformat": 4
 },
 "nbformat": 4,
 "nbformat_minor": 2
}
